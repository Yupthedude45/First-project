{
  "nbformat": 4,
  "nbformat_minor": 0,
  "metadata": {
    "colab": {
      "provenance": []
    },
    "kernelspec": {
      "name": "python3",
      "display_name": "Python 3"
    },
    "language_info": {
      "name": "python"
    }
  },
  "cells": [
    {
      "cell_type": "code",
      "execution_count": null,
      "metadata": {
        "id": "qfbH6mIVM0eO"
      },
      "outputs": [],
      "source": [
        "x=14"
      ]
    },
    {
      "cell_type": "code",
      "source": [
        "x+1"
      ],
      "metadata": {
        "colab": {
          "base_uri": "https://localhost:8080/"
        },
        "id": "Bp5mvJa6NBiq",
        "outputId": "abff4cb9-ee71-45c9-de70-e8c5c375e3a8"
      },
      "execution_count": null,
      "outputs": [
        {
          "output_type": "execute_result",
          "data": {
            "text/plain": [
              "15"
            ]
          },
          "metadata": {},
          "execution_count": 4
        }
      ]
    },
    {
      "cell_type": "code",
      "source": [
        "x/5"
      ],
      "metadata": {
        "colab": {
          "base_uri": "https://localhost:8080/"
        },
        "id": "PKZzFm6BNCGs",
        "outputId": "1054cb58-3040-4944-cb6d-8e3d00fd0137"
      },
      "execution_count": null,
      "outputs": [
        {
          "output_type": "execute_result",
          "data": {
            "text/plain": [
              "2.8"
            ]
          },
          "metadata": {},
          "execution_count": 5
        }
      ]
    },
    {
      "cell_type": "code",
      "source": [
        "import math"
      ],
      "metadata": {
        "id": "Ev24vqMJNCSR"
      },
      "execution_count": null,
      "outputs": []
    },
    {
      "cell_type": "code",
      "source": [
        "x//3"
      ],
      "metadata": {
        "colab": {
          "base_uri": "https://localhost:8080/"
        },
        "id": "VYBDJaM0QBcG",
        "outputId": "7a78004d-645d-4218-c474-106b7d07bc9e"
      },
      "execution_count": null,
      "outputs": [
        {
          "output_type": "execute_result",
          "data": {
            "text/plain": [
              "4"
            ]
          },
          "metadata": {},
          "execution_count": 7
        }
      ]
    },
    {
      "cell_type": "code",
      "source": [
        "(100-5 **3)/5"
      ],
      "metadata": {
        "colab": {
          "base_uri": "https://localhost:8080/"
        },
        "id": "XyCrVnxNQBhJ",
        "outputId": "3e092e6e-b691-43ac-de1d-d4adc1db076b"
      },
      "execution_count": null,
      "outputs": [
        {
          "output_type": "execute_result",
          "data": {
            "text/plain": [
              "-5.0"
            ]
          },
          "metadata": {},
          "execution_count": 8
        }
      ]
    },
    {
      "cell_type": "code",
      "source": [
        "6+15 %4"
      ],
      "metadata": {
        "colab": {
          "base_uri": "https://localhost:8080/"
        },
        "id": "-yo2jd5YQBki",
        "outputId": "e579b51e-65e3-4efe-f9c3-4ee167551ba7"
      },
      "execution_count": null,
      "outputs": [
        {
          "output_type": "execute_result",
          "data": {
            "text/plain": [
              "9"
            ]
          },
          "metadata": {},
          "execution_count": 9
        }
      ]
    },
    {
      "cell_type": "code",
      "source": [
        "2**2 + 24//4"
      ],
      "metadata": {
        "colab": {
          "base_uri": "https://localhost:8080/"
        },
        "id": "GLf8EuyUQBnp",
        "outputId": "64eb1ddc-2823-41f2-a07d-b5e761f496bb"
      },
      "execution_count": null,
      "outputs": [
        {
          "output_type": "execute_result",
          "data": {
            "text/plain": [
              "10"
            ]
          },
          "metadata": {},
          "execution_count": 10
        }
      ]
    },
    {
      "cell_type": "code",
      "source": [
        "type(6)"
      ],
      "metadata": {
        "colab": {
          "base_uri": "https://localhost:8080/"
        },
        "id": "FUSchYbBQBqv",
        "outputId": "bada5925-d250-4eed-a370-e3c0ab03b813"
      },
      "execution_count": null,
      "outputs": [
        {
          "output_type": "execute_result",
          "data": {
            "text/plain": [
              "int"
            ]
          },
          "metadata": {},
          "execution_count": 11
        }
      ]
    },
    {
      "cell_type": "code",
      "source": [
        "type(6.0)"
      ],
      "metadata": {
        "colab": {
          "base_uri": "https://localhost:8080/"
        },
        "id": "uYUTui9WSggx",
        "outputId": "bee1bfa2-fa03-4570-8fbc-91ec3fc426f0"
      },
      "execution_count": null,
      "outputs": [
        {
          "output_type": "execute_result",
          "data": {
            "text/plain": [
              "float"
            ]
          },
          "metadata": {},
          "execution_count": 12
        }
      ]
    },
    {
      "cell_type": "code",
      "source": [
        "5+3.14"
      ],
      "metadata": {
        "id": "-LR6q1UPSgkB",
        "colab": {
          "base_uri": "https://localhost:8080/"
        },
        "outputId": "89fc80d8-10d8-4ff5-cc74-b27004083805"
      },
      "execution_count": null,
      "outputs": [
        {
          "output_type": "execute_result",
          "data": {
            "text/plain": [
              "8.14"
            ]
          },
          "metadata": {},
          "execution_count": 1
        }
      ]
    },
    {
      "cell_type": "code",
      "source": [
        "int(7.9999999)"
      ],
      "metadata": {
        "id": "s71M53xgSgnK",
        "colab": {
          "base_uri": "https://localhost:8080/"
        },
        "outputId": "f5abdd96-3421-4340-d79b-ba5d0049a02e"
      },
      "execution_count": null,
      "outputs": [
        {
          "output_type": "execute_result",
          "data": {
            "text/plain": [
              "7"
            ]
          },
          "metadata": {},
          "execution_count": 2
        }
      ]
    },
    {
      "cell_type": "code",
      "source": [
        "float(6)"
      ],
      "metadata": {
        "id": "7BYusO-xSgqP",
        "colab": {
          "base_uri": "https://localhost:8080/"
        },
        "outputId": "ae37d82b-065b-4d63-865d-bc63e5f1b0c5"
      },
      "execution_count": null,
      "outputs": [
        {
          "output_type": "execute_result",
          "data": {
            "text/plain": [
              "6.0"
            ]
          },
          "metadata": {},
          "execution_count": 3
        }
      ]
    },
    {
      "cell_type": "code",
      "source": [
        "(2 + 3j) / (1 - 5j)"
      ],
      "metadata": {
        "id": "BaJDAcDCSgtZ",
        "colab": {
          "base_uri": "https://localhost:8080/"
        },
        "outputId": "784d8956-672d-452e-8fb7-65d032d968cb"
      },
      "execution_count": null,
      "outputs": [
        {
          "output_type": "execute_result",
          "data": {
            "text/plain": [
              "(-0.5+0.5j)"
            ]
          },
          "metadata": {},
          "execution_count": 5
        }
      ]
    },
    {
      "cell_type": "code",
      "source": [
        "x = 2\n",
        "x + 1"
      ],
      "metadata": {
        "id": "dZjOqcCjSgwi",
        "colab": {
          "base_uri": "https://localhost:8080/"
        },
        "outputId": "bb86ab51-23a1-40c9-e0b8-b7de9ee98ff3"
      },
      "execution_count": null,
      "outputs": [
        {
          "output_type": "execute_result",
          "data": {
            "text/plain": [
              "3"
            ]
          },
          "metadata": {},
          "execution_count": 6
        }
      ]
    },
    {
      "cell_type": "code",
      "source": [
        "x"
      ],
      "metadata": {
        "id": "S-iWQuzoSgz6",
        "colab": {
          "base_uri": "https://localhost:8080/"
        },
        "outputId": "9505dfea-76ec-4a2b-e26f-ca740d7aa7f6"
      },
      "execution_count": null,
      "outputs": [
        {
          "output_type": "execute_result",
          "data": {
            "text/plain": [
              "2"
            ]
          },
          "metadata": {},
          "execution_count": 7
        }
      ]
    },
    {
      "cell_type": "code",
      "source": [
        "x = 3.0\n",
        "x = x + 1\n",
        "x"
      ],
      "metadata": {
        "colab": {
          "base_uri": "https://localhost:8080/"
        },
        "id": "H9XY-gl8RHW8",
        "outputId": "fd5fad3c-e590-4531-ab8d-36f869c468b6"
      },
      "execution_count": null,
      "outputs": [
        {
          "output_type": "execute_result",
          "data": {
            "text/plain": [
              "4.0"
            ]
          },
          "metadata": {},
          "execution_count": 8
        }
      ]
    },
    {
      "cell_type": "code",
      "source": [
        "y = 10"
      ],
      "metadata": {
        "id": "3xWIcVh6RHiU"
      },
      "execution_count": null,
      "outputs": []
    },
    {
      "cell_type": "code",
      "source": [
        "y = y - 10.0"
      ],
      "metadata": {
        "id": "iFA2yv7HRHsG"
      },
      "execution_count": null,
      "outputs": []
    },
    {
      "cell_type": "code",
      "source": [
        "type(y)"
      ],
      "metadata": {
        "colab": {
          "base_uri": "https://localhost:8080/"
        },
        "id": "_FY2uD_pRHwc",
        "outputId": "168731cb-0b13-4ca0-e854-3a859f5bcdb9"
      },
      "execution_count": null,
      "outputs": [
        {
          "output_type": "execute_result",
          "data": {
            "text/plain": [
              "float"
            ]
          },
          "metadata": {},
          "execution_count": 13
        }
      ]
    },
    {
      "cell_type": "code",
      "source": [
        "x = 14\n",
        "x = x + 1\n",
        "x = x / 5\n",
        "x = x ** 2\n",
        "x"
      ],
      "metadata": {
        "id": "FyqHT-zORHzy",
        "colab": {
          "base_uri": "https://localhost:8080/"
        },
        "outputId": "49fd0582-e260-4ad3-8243-a651f973b871"
      },
      "execution_count": null,
      "outputs": [
        {
          "output_type": "execute_result",
          "data": {
            "text/plain": [
              "9.0"
            ]
          },
          "metadata": {},
          "execution_count": 6
        }
      ]
    },
    {
      "cell_type": "code",
      "source": [
        "import keyword\n",
        "print(keyword.kwlist)"
      ],
      "metadata": {
        "colab": {
          "base_uri": "https://localhost:8080/"
        },
        "id": "Aw2gfu99rh6H",
        "outputId": "c8bbbc9f-63cc-4146-ad60-dd95177d6f7c"
      },
      "execution_count": null,
      "outputs": [
        {
          "output_type": "stream",
          "name": "stdout",
          "text": [
            "['False', 'None', 'True', 'and', 'as', 'assert', 'async', 'await', 'break', 'class', 'continue', 'def', 'del', 'elif', 'else', 'except', 'finally', 'for', 'from', 'global', 'if', 'import', 'in', 'is', 'lambda', 'nonlocal', 'not', 'or', 'pass', 'raise', 'return', 'try', 'while', 'with', 'yield']\n"
          ]
        }
      ]
    },
    {
      "cell_type": "code",
      "source": [
        "first_number = 1"
      ],
      "metadata": {
        "id": "M7CSO4BxriH4"
      },
      "execution_count": null,
      "outputs": []
    },
    {
      "cell_type": "code",
      "source": [
        "x = 5\n",
        "y = 2"
      ],
      "metadata": {
        "id": "tj0gjoWBriRN"
      },
      "execution_count": null,
      "outputs": []
    },
    {
      "cell_type": "code",
      "source": [
        "x + x - y ** 2"
      ],
      "metadata": {
        "colab": {
          "base_uri": "https://localhost:8080/"
        },
        "id": "ANLKaocgtmq6",
        "outputId": "88fb4c55-057b-416f-b316-c4e7bb72825c"
      },
      "execution_count": null,
      "outputs": [
        {
          "output_type": "execute_result",
          "data": {
            "text/plain": [
              "6"
            ]
          },
          "metadata": {},
          "execution_count": 11
        }
      ]
    },
    {
      "cell_type": "code",
      "source": [
        "x, y = 8, 5"
      ],
      "metadata": {
        "id": "8QbFc4lGtmzK"
      },
      "execution_count": null,
      "outputs": []
    },
    {
      "cell_type": "code",
      "source": [
        "x // y"
      ],
      "metadata": {
        "colab": {
          "base_uri": "https://localhost:8080/"
        },
        "id": "wyX5Ax9Htm2w",
        "outputId": "1f2cb5c8-c5c9-401f-ea75-db1a02defb70"
      },
      "execution_count": null,
      "outputs": [
        {
          "output_type": "execute_result",
          "data": {
            "text/plain": [
              "1"
            ]
          },
          "metadata": {},
          "execution_count": 13
        }
      ]
    },
    {
      "cell_type": "code",
      "source": [
        "# This is a comment"
      ],
      "metadata": {
        "id": "Q5VD1RLRtm6W"
      },
      "execution_count": null,
      "outputs": []
    },
    {
      "cell_type": "code",
      "source": [
        "# Set the variable pi equal to 3.14\n",
        "pi = 3.14"
      ],
      "metadata": {
        "id": "m-MOSDZLtm-C"
      },
      "execution_count": null,
      "outputs": []
    },
    {
      "cell_type": "code",
      "source": [
        "pi = 3.14 # Set the variable pi equal to 3.14"
      ],
      "metadata": {
        "id": "E8mT1C5EtnBI"
      },
      "execution_count": null,
      "outputs": []
    },
    {
      "cell_type": "code",
      "source": [
        "\"\"\"\n",
        "This document will explore why comments are particularly\n",
        "   useful when writing and reading code.\n",
        "\"\"\""
      ],
      "metadata": {
        "colab": {
          "base_uri": "https://localhost:8080/",
          "height": 74
        },
        "id": "7F1PkAaItnEz",
        "outputId": "1c0e007f-b2cb-44d1-b226-cb528df90bfe"
      },
      "execution_count": null,
      "outputs": [
        {
          "output_type": "execute_result",
          "data": {
            "text/plain": [
              "'\\nThis document will explore why comments are particularly\\n   useful when writing and reading code.\\n'"
            ],
            "application/vnd.google.colaboratory.intrinsic+json": {
              "type": "string"
            }
          },
          "metadata": {},
          "execution_count": 17
        }
      ]
    },
    {
      "cell_type": "code",
      "source": [
        "\"\"\"\n",
        "assign numbers to the base and height variables, then multiply the base and height by 1⁄2 to find the area.\n",
        "\"\"\""
      ],
      "metadata": {
        "id": "zyecTNHHRH3K",
        "colab": {
          "base_uri": "https://localhost:8080/",
          "height": 92
        },
        "outputId": "bc2d3fb7-0f0c-4ac2-a6eb-53eec804e596"
      },
      "execution_count": null,
      "outputs": [
        {
          "output_type": "execute_result",
          "data": {
            "text/plain": [
              "'\\nassign numbers to the base and height variables, then multiply the base and height by 1⁄2 to find the area.\\n'"
            ],
            "application/vnd.google.colaboratory.intrinsic+json": {
              "type": "string"
            }
          },
          "metadata": {},
          "execution_count": 2
        }
      ]
    },
    {
      "cell_type": "code",
      "source": [
        "b , h = 2 , 4"
      ],
      "metadata": {
        "id": "IqAhkN1tvtZX"
      },
      "execution_count": null,
      "outputs": []
    },
    {
      "cell_type": "code",
      "source": [
        "c = (b * h)/ 2\n",
        "int (c)"
      ],
      "metadata": {
        "colab": {
          "base_uri": "https://localhost:8080/"
        },
        "id": "zWi-pBuRvtdp",
        "outputId": "9d738e2d-a908-4bfd-ffca-09b0957f5c3b"
      },
      "execution_count": null,
      "outputs": [
        {
          "output_type": "execute_result",
          "data": {
            "text/plain": [
              "4"
            ]
          },
          "metadata": {},
          "execution_count": 3
        }
      ]
    },
    {
      "cell_type": "code",
      "source": [
        "bookstore = \"City of Lights\""
      ],
      "metadata": {
        "id": "ZHLnbyDLvthD"
      },
      "execution_count": null,
      "outputs": []
    },
    {
      "cell_type": "code",
      "source": [
        "bookstore = 'City of Lights\""
      ],
      "metadata": {
        "colab": {
          "base_uri": "https://localhost:8080/",
          "height": 171
        },
        "id": "1EvacpmCExvH",
        "outputId": "a81186c6-6d6b-4c7e-c1e5-38053588c586"
      },
      "execution_count": null,
      "outputs": [
        {
          "output_type": "error",
          "ename": "SyntaxError",
          "evalue": "ignored",
          "traceback": [
            "\u001b[0;36m  File \u001b[0;32m\"<ipython-input-2-f86e9bc40799>\"\u001b[0;36m, line \u001b[0;32m1\u001b[0m\n\u001b[0;31m    bookstore = 'City of Lights\"\u001b[0m\n\u001b[0m                                ^\u001b[0m\n\u001b[0;31mSyntaxError\u001b[0m\u001b[0;31m:\u001b[0m EOL while scanning string literal\n"
          ]
        }
      ]
    },
    {
      "cell_type": "code",
      "source": [
        "bookstore = \" Moe's\""
      ],
      "metadata": {
        "id": "9ao3tEZ-Eyk9"
      },
      "execution_count": null,
      "outputs": []
    },
    {
      "cell_type": "code",
      "source": [
        "bookstore = 'Moe's'"
      ],
      "metadata": {
        "colab": {
          "base_uri": "https://localhost:8080/",
          "height": 153
        },
        "id": "DB-luD8XEypG",
        "outputId": "11a31dcc-c064-458a-a7fb-9c413eceb017"
      },
      "execution_count": null,
      "outputs": [
        {
          "output_type": "error",
          "ename": "SyntaxError",
          "evalue": "ignored",
          "traceback": [
            "\u001b[0;36m  File \u001b[0;32m\"<ipython-input-4-0ef68cccb92b>\"\u001b[0;36m, line \u001b[0;32m1\u001b[0m\n\u001b[0;31m    bookstore = 'Moe's'\u001b[0m\n\u001b[0m                     ^\u001b[0m\n\u001b[0;31mSyntaxError\u001b[0m\u001b[0;31m:\u001b[0m invalid syntax\n"
          ]
        }
      ]
    },
    {
      "cell_type": "code",
      "source": [
        "bookstore = 'Moe\\'s'"
      ],
      "metadata": {
        "id": "Ja4uI3OAEyr7"
      },
      "execution_count": null,
      "outputs": []
    },
    {
      "cell_type": "code",
      "source": [
        "vacation_note = '''\n",
        "During our vacation to San Francisco, we waited in a long\n",
        "  line by Powell St. Station to take the cable car. Tap\n",
        "    dancers performed on wooden boards. By the time our\n",
        "       cable car arrived, we started looking online for a\n",
        "          good place to eat. We're heading to North Beach.\n",
        "'''"
      ],
      "metadata": {
        "id": "PAYaB6TZvtkc"
      },
      "execution_count": null,
      "outputs": []
    },
    {
      "cell_type": "code",
      "source": [
        "print(vacation_note)"
      ],
      "metadata": {
        "colab": {
          "base_uri": "https://localhost:8080/"
        },
        "id": "VnmFYsd3vtn1",
        "outputId": "0cb51fea-765e-47d1-ae09-5216a1a4c2f3"
      },
      "execution_count": null,
      "outputs": [
        {
          "output_type": "stream",
          "name": "stdout",
          "text": [
            "\n",
            "During our vacation to San Francisco, we waited in a long\n",
            "  line by Powell St. Station to take the cable car. Tap\n",
            "    dancers performed on wooden boards. By the time our\n",
            "       cable car arrived, we started looking online for a\n",
            "          good place to eat. We're heading to North Beach.\n",
            "\n"
          ]
        }
      ]
    },
    {
      "cell_type": "code",
      "source": [
        "greeting = \"Hello\"\n",
        "print(greeting)"
      ],
      "metadata": {
        "colab": {
          "base_uri": "https://localhost:8080/"
        },
        "id": "_BsM7EcFG0zQ",
        "outputId": "ab9ed371-0056-42d4-a809-cb425ef2a3b8"
      },
      "execution_count": null,
      "outputs": [
        {
          "output_type": "stream",
          "name": "stdout",
          "text": [
            "Hello\n"
          ]
        }
      ]
    },
    {
      "cell_type": "code",
      "source": [
        "greeting"
      ],
      "metadata": {
        "colab": {
          "base_uri": "https://localhost:8080/",
          "height": 38
        },
        "id": "iLpfIj8wG06_",
        "outputId": "77ed039f-bc1e-4802-c458-6464fa298bbf"
      },
      "execution_count": null,
      "outputs": [
        {
          "output_type": "execute_result",
          "data": {
            "text/plain": [
              "'Hello'"
            ],
            "application/vnd.google.colaboratory.intrinsic+json": {
              "type": "string"
            }
          },
          "metadata": {},
          "execution_count": 9
        }
      ]
    },
    {
      "cell_type": "code",
      "source": [
        "spanish_greeting = 'Hola.'\n",
        "spanish_greeting\n",
        "arabic_greeting = 'Ahlan wa sahlan.'"
      ],
      "metadata": {
        "id": "DLlJk_cPG09z"
      },
      "execution_count": null,
      "outputs": []
    },
    {
      "cell_type": "code",
      "source": [
        "spanish_greeting = 'Hola'\n",
        "print(spanish_greeting + \"Senor.\")"
      ],
      "metadata": {
        "id": "Uv-wvrATG1BI",
        "colab": {
          "base_uri": "https://localhost:8080/"
        },
        "outputId": "1e4bb2a0-c50b-4e1f-e4a6-89155a02f1dc"
      },
      "execution_count": null,
      "outputs": [
        {
          "output_type": "stream",
          "name": "stdout",
          "text": [
            "HolaSenor.\n"
          ]
        }
      ]
    },
    {
      "cell_type": "code",
      "source": [
        "spanish_greeting = \"Hola\"\n",
        "print(spanish_greeting + \" Senor.\")"
      ],
      "metadata": {
        "id": "Fz0ptQoRG1Ek",
        "colab": {
          "base_uri": "https://localhost:8080/"
        },
        "outputId": "531475db-8439-483d-8f42-27d7d47e22b7"
      },
      "execution_count": null,
      "outputs": [
        {
          "output_type": "stream",
          "name": "stdout",
          "text": [
            "Hola Senor.\n"
          ]
        }
      ]
    },
    {
      "cell_type": "code",
      "source": [
        "greeting = \"Hello\"\n",
        "print(greeting * 5)"
      ],
      "metadata": {
        "id": "f9DRDj1KG1Hs",
        "colab": {
          "base_uri": "https://localhost:8080/"
        },
        "outputId": "8a1d6016-a122-4d99-b084-d78ec1b4fc62"
      },
      "execution_count": null,
      "outputs": [
        {
          "output_type": "stream",
          "name": "stdout",
          "text": [
            "HelloHelloHelloHelloHello\n"
          ]
        }
      ]
    },
    {
      "cell_type": "code",
      "source": [
        "italian_greeting = 'Ciao'\n",
        "print('Should we greet people with', italian_greeting,\n",
        "  'in North Beach?')"
      ],
      "metadata": {
        "colab": {
          "base_uri": "https://localhost:8080/"
        },
        "id": "cEkTOLqvyBYd",
        "outputId": "87361bdf-4a9b-44da-cf19-9fe4d7e84a17"
      },
      "execution_count": null,
      "outputs": [
        {
          "output_type": "stream",
          "name": "stdout",
          "text": [
            "Should we greet people with Ciao in North Beach?\n"
          ]
        }
      ]
    },
    {
      "cell_type": "code",
      "source": [
        "poet = 'Amanda Gorman'\n",
        "age = 22\n",
        "f' At age {age}, {poet} became the youngest inaugural poet in US history. '"
      ],
      "metadata": {
        "colab": {
          "base_uri": "https://localhost:8080/",
          "height": 74
        },
        "id": "0q3t0ZUdyBcD",
        "outputId": "8c84e894-f162-4e0e-e919-635a0f6ebc8a"
      },
      "execution_count": null,
      "outputs": [
        {
          "output_type": "execute_result",
          "data": {
            "text/plain": [
              "' At age 22, Amanda Gorman became the youngest inaugural poet in US history. '"
            ],
            "application/vnd.google.colaboratory.intrinsic+json": {
              "type": "string"
            }
          },
          "metadata": {},
          "execution_count": 10
        }
      ]
    },
    {
      "cell_type": "code",
      "source": [
        "len(arabic_greeting)"
      ],
      "metadata": {
        "colab": {
          "base_uri": "https://localhost:8080/"
        },
        "id": "B96FL0qxyBfM",
        "outputId": "917990f8-ce4d-48b7-efa1-8bd8fc3d7ec6"
      },
      "execution_count": null,
      "outputs": [
        {
          "output_type": "execute_result",
          "data": {
            "text/plain": [
              "16"
            ]
          },
          "metadata": {},
          "execution_count": 12
        }
      ]
    },
    {
      "cell_type": "code",
      "source": [
        "name = 'Josephine'"
      ],
      "metadata": {
        "id": "qgsLgy6VyBi1"
      },
      "execution_count": null,
      "outputs": []
    },
    {
      "cell_type": "code",
      "source": [
        "name.lower()"
      ],
      "metadata": {
        "colab": {
          "base_uri": "https://localhost:8080/",
          "height": 38
        },
        "id": "e8oBvPbtyBvt",
        "outputId": "bfe8400a-65aa-4b3d-89b0-55afd0b6acc0"
      },
      "execution_count": null,
      "outputs": [
        {
          "output_type": "execute_result",
          "data": {
            "text/plain": [
              "'josephine'"
            ],
            "application/vnd.google.colaboratory.intrinsic+json": {
              "type": "string"
            }
          },
          "metadata": {},
          "execution_count": 14
        }
      ]
    },
    {
      "cell_type": "code",
      "source": [
        "name.capitalize()"
      ],
      "metadata": {
        "id": "lSPBK3_cG1Lm",
        "colab": {
          "base_uri": "https://localhost:8080/",
          "height": 38
        },
        "outputId": "5c2d05ec-0751-4d28-9a81-387ee4ae7731"
      },
      "execution_count": null,
      "outputs": [
        {
          "output_type": "execute_result",
          "data": {
            "text/plain": [
              "'Josephine'"
            ],
            "application/vnd.google.colaboratory.intrinsic+json": {
              "type": "string"
            }
          },
          "metadata": {},
          "execution_count": 15
        }
      ]
    },
    {
      "cell_type": "code",
      "source": [
        "name.upper()"
      ],
      "metadata": {
        "colab": {
          "base_uri": "https://localhost:8080/",
          "height": 38
        },
        "id": "Yl6w2_0h4vFs",
        "outputId": "ccf2160f-65bb-47a2-ef5e-71e012f3a909"
      },
      "execution_count": null,
      "outputs": [
        {
          "output_type": "execute_result",
          "data": {
            "text/plain": [
              "'JOSEPHINE'"
            ],
            "application/vnd.google.colaboratory.intrinsic+json": {
              "type": "string"
            }
          },
          "metadata": {},
          "execution_count": 16
        }
      ]
    },
    {
      "cell_type": "code",
      "source": [
        "name.count('e')"
      ],
      "metadata": {
        "colab": {
          "base_uri": "https://localhost:8080/"
        },
        "id": "di_8tP1d4vI0",
        "outputId": "fa0ff918-1d6e-43db-fe01-464ac9154733"
      },
      "execution_count": null,
      "outputs": [
        {
          "output_type": "execute_result",
          "data": {
            "text/plain": [
              "2"
            ]
          },
          "metadata": {},
          "execution_count": 17
        }
      ]
    },
    {
      "cell_type": "code",
      "source": [
        "type(\"5\")"
      ],
      "metadata": {
        "colab": {
          "base_uri": "https://localhost:8080/"
        },
        "id": "lYX-jyVA4vL7",
        "outputId": "63c6a7e4-fcd1-45b3-d00d-04c18e1a3deb"
      },
      "execution_count": null,
      "outputs": [
        {
          "output_type": "execute_result",
          "data": {
            "text/plain": [
              "str"
            ]
          },
          "metadata": {},
          "execution_count": 18
        }
      ]
    },
    {
      "cell_type": "code",
      "source": [
        "\"5\" + \"7\""
      ],
      "metadata": {
        "colab": {
          "base_uri": "https://localhost:8080/",
          "height": 38
        },
        "id": "AoR_JX6l4vPn",
        "outputId": "6cbba251-a044-41ad-c8a7-8ee1ae515429"
      },
      "execution_count": null,
      "outputs": [
        {
          "output_type": "execute_result",
          "data": {
            "text/plain": [
              "'57'"
            ],
            "application/vnd.google.colaboratory.intrinsic+json": {
              "type": "string"
            }
          },
          "metadata": {},
          "execution_count": 19
        }
      ]
    },
    {
      "cell_type": "code",
      "source": [
        "int (\"5\") + int (\"7\")"
      ],
      "metadata": {
        "colab": {
          "base_uri": "https://localhost:8080/"
        },
        "id": "XRKwhs3R4vS-",
        "outputId": "33b6948a-1f66-4302-aa6f-3a8c9c2cf816"
      },
      "execution_count": null,
      "outputs": [
        {
          "output_type": "execute_result",
          "data": {
            "text/plain": [
              "12"
            ]
          },
          "metadata": {},
          "execution_count": 20
        }
      ]
    },
    {
      "cell_type": "code",
      "source": [
        "name = input(\"what is your name?\")"
      ],
      "metadata": {
        "id": "WBCyqYwp4vWH",
        "colab": {
          "base_uri": "https://localhost:8080/"
        },
        "outputId": "da5b2a04-35d2-4232-8d6e-34291f73e22e"
      },
      "execution_count": null,
      "outputs": [
        {
          "name": "stdout",
          "output_type": "stream",
          "text": [
            "what is your name?Anthony Earles\n"
          ]
        }
      ]
    },
    {
      "cell_type": "code",
      "source": [
        "print(f'Hello, {name}.')"
      ],
      "metadata": {
        "id": "Pz3Gv0lG6irG",
        "colab": {
          "base_uri": "https://localhost:8080/"
        },
        "outputId": "a0c35846-e82f-4850-ab6e-7cfdbf6f4531"
      },
      "execution_count": null,
      "outputs": [
        {
          "output_type": "stream",
          "name": "stdout",
          "text": [
            "Hello, Anthony Earles.\n"
          ]
        }
      ]
    },
    {
      "cell_type": "code",
      "source": [
        "date = input(\"Please rate your day \")\n",
        "if date == 1:\n",
        "  print('Listen, learn, and have fun.')\n",
        "elif date == 2:\n",
        "  print('Go fearlessly forward.')\n",
        "elif date == 3:\n",
        "  print('Seize the day.')\n",
        "elif date == 4:\n",
        "  print('Go for what you want.')\n",
        "elif date == 5:\n",
        "  print('Stay physically fit and healthy.')\n",
        "elif date == 6:\n",
        "  print ('Days getting better')\n",
        "elif date == 7:\n",
        "  print ('Day looks beautiful')\n",
        "elif date == 8:\n",
        "  print ('Have an amazing day')\n",
        "elif date == 9:\n",
        "  print ('Keep it up')\n",
        "elif date == 10:\n",
        "  print ('Day is amazing')\n",
        "else:\n",
        "  print('Each day is magical.')"
      ],
      "metadata": {
        "id": "_lhO6bhM6ixp",
        "colab": {
          "base_uri": "https://localhost:8080/"
        },
        "outputId": "8705386d-74ea-48cb-d220-16eb0ce0d41c"
      },
      "execution_count": null,
      "outputs": [
        {
          "output_type": "stream",
          "name": "stdout",
          "text": [
            "Please rate your day 10\n",
            "Each day is magical.\n"
          ]
        }
      ]
    },
    {
      "cell_type": "code",
      "source": [
        " destination = 'San Francisco'"
      ],
      "metadata": {
        "id": "y3T75PYv6i39"
      },
      "execution_count": null,
      "outputs": []
    },
    {
      "cell_type": "code",
      "source": [
        "destination[0]"
      ],
      "metadata": {
        "id": "pur9Uaui6i7X",
        "colab": {
          "base_uri": "https://localhost:8080/",
          "height": 38
        },
        "outputId": "a21a86b2-f877-4f2b-f90a-4bb9b0ee3b25"
      },
      "execution_count": null,
      "outputs": [
        {
          "output_type": "execute_result",
          "data": {
            "text/plain": [
              "'S'"
            ],
            "application/vnd.google.colaboratory.intrinsic+json": {
              "type": "string"
            }
          },
          "metadata": {},
          "execution_count": 15
        }
      ]
    },
    {
      "cell_type": "code",
      "source": [
        "destination[1]"
      ],
      "metadata": {
        "id": "GJbGUlEn6i-f",
        "colab": {
          "base_uri": "https://localhost:8080/",
          "height": 38
        },
        "outputId": "3b367f79-3b3a-42a1-fdf3-47bea8d85173"
      },
      "execution_count": null,
      "outputs": [
        {
          "output_type": "execute_result",
          "data": {
            "text/plain": [
              "'a'"
            ],
            "application/vnd.google.colaboratory.intrinsic+json": {
              "type": "string"
            }
          },
          "metadata": {},
          "execution_count": 16
        }
      ]
    },
    {
      "cell_type": "code",
      "source": [
        "destination[-1]"
      ],
      "metadata": {
        "colab": {
          "base_uri": "https://localhost:8080/",
          "height": 38
        },
        "id": "WFGNB6xIvc90",
        "outputId": "ca91a000-d590-4eb4-a4e9-9f91967d806a"
      },
      "execution_count": null,
      "outputs": [
        {
          "output_type": "execute_result",
          "data": {
            "text/plain": [
              "'o'"
            ],
            "application/vnd.google.colaboratory.intrinsic+json": {
              "type": "string"
            }
          },
          "metadata": {},
          "execution_count": 17
        }
      ]
    },
    {
      "cell_type": "code",
      "source": [
        "bridge= \"Golden Gate\"\n",
        "bridge[6]"
      ],
      "metadata": {
        "colab": {
          "base_uri": "https://localhost:8080/",
          "height": 38
        },
        "id": "KiH9UciCvdDH",
        "outputId": "0939205c-d12c-4624-99e6-d87d9038705a"
      },
      "execution_count": null,
      "outputs": [
        {
          "output_type": "execute_result",
          "data": {
            "text/plain": [
              "' '"
            ],
            "application/vnd.google.colaboratory.intrinsic+json": {
              "type": "string"
            }
          },
          "metadata": {},
          "execution_count": 18
        }
      ]
    },
    {
      "cell_type": "code",
      "source": [
        "destination[4:11]"
      ],
      "metadata": {
        "colab": {
          "base_uri": "https://localhost:8080/",
          "height": 38
        },
        "id": "2tzZ4blbzBeO",
        "outputId": "044337cf-21c3-445d-ab26-d1e74ca18792"
      },
      "execution_count": null,
      "outputs": [
        {
          "output_type": "execute_result",
          "data": {
            "text/plain": [
              "'Francis'"
            ],
            "application/vnd.google.colaboratory.intrinsic+json": {
              "type": "string"
            }
          },
          "metadata": {},
          "execution_count": 19
        }
      ]
    },
    {
      "cell_type": "code",
      "source": [
        "destination[0:3]"
      ],
      "metadata": {
        "colab": {
          "base_uri": "https://localhost:8080/",
          "height": 38
        },
        "id": "RDoNRchDzBiT",
        "outputId": "181f2ed5-ec30-469a-973c-9022af18ed67"
      },
      "execution_count": null,
      "outputs": [
        {
          "output_type": "execute_result",
          "data": {
            "text/plain": [
              "'San'"
            ],
            "application/vnd.google.colaboratory.intrinsic+json": {
              "type": "string"
            }
          },
          "metadata": {},
          "execution_count": 20
        }
      ]
    },
    {
      "cell_type": "code",
      "source": [
        "destination[:8]"
      ],
      "metadata": {
        "colab": {
          "base_uri": "https://localhost:8080/",
          "height": 38
        },
        "id": "z-_UwVbFzBmj",
        "outputId": "0b6f1680-40d8-47f5-9104-0c3bcd2ba761"
      },
      "execution_count": null,
      "outputs": [
        {
          "output_type": "execute_result",
          "data": {
            "text/plain": [
              "'San Fran'"
            ],
            "application/vnd.google.colaboratory.intrinsic+json": {
              "type": "string"
            }
          },
          "metadata": {},
          "execution_count": 21
        }
      ]
    },
    {
      "cell_type": "code",
      "source": [
        "over_18 = True\n",
        "type(over_18)"
      ],
      "metadata": {
        "id": "TFqBf_hXzBp7",
        "colab": {
          "base_uri": "https://localhost:8080/"
        },
        "outputId": "22f6f5c5-3acc-4932-cb70-ec0a34275186"
      },
      "execution_count": null,
      "outputs": [
        {
          "output_type": "execute_result",
          "data": {
            "text/plain": [
              "bool"
            ]
          },
          "metadata": {},
          "execution_count": 1
        }
      ]
    },
    {
      "cell_type": "code",
      "source": [
        "over_18, over_21 = True, False"
      ],
      "metadata": {
        "id": "XX_230uWzBvK"
      },
      "execution_count": null,
      "outputs": []
    },
    {
      "cell_type": "code",
      "source": [
        "over_18 and over_21"
      ],
      "metadata": {
        "colab": {
          "base_uri": "https://localhost:8080/"
        },
        "id": "_z2y2vJk_UUV",
        "outputId": "b87ec5dc-ed35-4695-ffb8-1f5ab407211c"
      },
      "execution_count": null,
      "outputs": [
        {
          "output_type": "execute_result",
          "data": {
            "text/plain": [
              "False"
            ]
          },
          "metadata": {},
          "execution_count": 3
        }
      ]
    },
    {
      "cell_type": "code",
      "source": [
        "over_18 or over_21"
      ],
      "metadata": {
        "colab": {
          "base_uri": "https://localhost:8080/"
        },
        "id": "bN_A-MEp_UYa",
        "outputId": "2fa88585-125d-4137-e1e6-1703f9d4298b"
      },
      "execution_count": null,
      "outputs": [
        {
          "output_type": "execute_result",
          "data": {
            "text/plain": [
              "True"
            ]
          },
          "metadata": {},
          "execution_count": 4
        }
      ]
    },
    {
      "cell_type": "code",
      "source": [
        "not over_18"
      ],
      "metadata": {
        "colab": {
          "base_uri": "https://localhost:8080/"
        },
        "id": "4VKbPwJM_UcB",
        "outputId": "5bffa31d-d566-4b6b-f655-26c2c4f5de83"
      },
      "execution_count": null,
      "outputs": [
        {
          "output_type": "execute_result",
          "data": {
            "text/plain": [
              "False"
            ]
          },
          "metadata": {},
          "execution_count": 5
        }
      ]
    },
    {
      "cell_type": "code",
      "source": [
        "not over_21 or (over_21 or over_18)"
      ],
      "metadata": {
        "colab": {
          "base_uri": "https://localhost:8080/"
        },
        "id": "FyJATMk4AbSr",
        "outputId": "ac628faf-f748-4b77-b5b1-2b0b076ea892"
      },
      "execution_count": null,
      "outputs": [
        {
          "output_type": "execute_result",
          "data": {
            "text/plain": [
              "True"
            ]
          },
          "metadata": {},
          "execution_count": 6
        }
      ]
    },
    {
      "cell_type": "code",
      "source": [
        "income = 80000\n",
        "income < 75000"
      ],
      "metadata": {
        "colab": {
          "base_uri": "https://localhost:8080/"
        },
        "id": "3qnb-MLUAbWk",
        "outputId": "3f722fe5-34ed-416c-dbaa-70072bab0666"
      },
      "execution_count": null,
      "outputs": [
        {
          "output_type": "execute_result",
          "data": {
            "text/plain": [
              "False"
            ]
          },
          "metadata": {},
          "execution_count": 7
        }
      ]
    },
    {
      "cell_type": "code",
      "source": [
        "income >= 80000 and income <= 100000"
      ],
      "metadata": {
        "colab": {
          "base_uri": "https://localhost:8080/"
        },
        "id": "f7V55TKGAba8",
        "outputId": "69cc45d3-ba9b-4e86-baf2-8cf9e60b008f"
      },
      "execution_count": null,
      "outputs": [
        {
          "output_type": "execute_result",
          "data": {
            "text/plain": [
              "True"
            ]
          },
          "metadata": {},
          "execution_count": 8
        }
      ]
    },
    {
      "cell_type": "code",
      "source": [
        "income != 100000"
      ],
      "metadata": {
        "colab": {
          "base_uri": "https://localhost:8080/"
        },
        "id": "clTzRpvQAbeX",
        "outputId": "5089962d-1347-4426-82a6-c5c05f22478f"
      },
      "execution_count": null,
      "outputs": [
        {
          "output_type": "execute_result",
          "data": {
            "text/plain": [
              "True"
            ]
          },
          "metadata": {},
          "execution_count": 9
        }
      ]
    },
    {
      "cell_type": "code",
      "source": [
        "income == 90000"
      ],
      "metadata": {
        "colab": {
          "base_uri": "https://localhost:8080/"
        },
        "id": "J5mWRnpsAbiE",
        "outputId": "edab7184-8ba6-4733-ef35-f077b35c5ed2"
      },
      "execution_count": null,
      "outputs": [
        {
          "output_type": "execute_result",
          "data": {
            "text/plain": [
              "False"
            ]
          },
          "metadata": {},
          "execution_count": 10
        }
      ]
    },
    {
      "cell_type": "code",
      "source": [
        "6 == 6.0"
      ],
      "metadata": {
        "colab": {
          "base_uri": "https://localhost:8080/"
        },
        "id": "y59-947bAbl7",
        "outputId": "fc9e3ff3-8d3c-47b0-dcde-ceac4ce1c2ed"
      },
      "execution_count": null,
      "outputs": [
        {
          "output_type": "execute_result",
          "data": {
            "text/plain": [
              "True"
            ]
          },
          "metadata": {},
          "execution_count": 11
        }
      ]
    },
    {
      "cell_type": "code",
      "source": [
        "6 == '6'"
      ],
      "metadata": {
        "colab": {
          "base_uri": "https://localhost:8080/"
        },
        "id": "folMaPRgBgpd",
        "outputId": "5449d9a4-c66f-4252-e768-6d67bc251dc4"
      },
      "execution_count": null,
      "outputs": [
        {
          "output_type": "execute_result",
          "data": {
            "text/plain": [
              "False"
            ]
          },
          "metadata": {},
          "execution_count": 12
        }
      ]
    },
    {
      "cell_type": "code",
      "source": [
        "age=29\n",
        "(20 <= age < 30) or (30 <= age < 40)"
      ],
      "metadata": {
        "colab": {
          "base_uri": "https://localhost:8080/"
        },
        "id": "EzkqVp-YBgtk",
        "outputId": "6dae42db-f2de-4693-baa5-52b9999f600e"
      },
      "execution_count": null,
      "outputs": [
        {
          "output_type": "execute_result",
          "data": {
            "text/plain": [
              "True"
            ]
          },
          "metadata": {},
          "execution_count": 13
        }
      ]
    },
    {
      "cell_type": "code",
      "source": [
        "20>=19"
      ],
      "metadata": {
        "colab": {
          "base_uri": "https://localhost:8080/"
        },
        "id": "9nLPZLLHBgxJ",
        "outputId": "13350749-7cc3-4b8c-f2f5-97efcbdf4c18"
      },
      "execution_count": null,
      "outputs": [
        {
          "output_type": "execute_result",
          "data": {
            "text/plain": [
              "True"
            ]
          },
          "metadata": {},
          "execution_count": 15
        }
      ]
    },
    {
      "cell_type": "code",
      "source": [
        "'a' < 'c'"
      ],
      "metadata": {
        "colab": {
          "base_uri": "https://localhost:8080/"
        },
        "id": "VFQaQfSHBg1H",
        "outputId": "ad5e2696-89e0-4452-f99c-2c14e3525839"
      },
      "execution_count": null,
      "outputs": [
        {
          "output_type": "execute_result",
          "data": {
            "text/plain": [
              "True"
            ]
          },
          "metadata": {},
          "execution_count": 16
        }
      ]
    },
    {
      "cell_type": "code",
      "source": [
        "'New York' > 'San Francisco'"
      ],
      "metadata": {
        "colab": {
          "base_uri": "https://localhost:8080/"
        },
        "id": "ROkLCviqCZUa",
        "outputId": "02ccafd0-375d-4fb8-b91d-39aa6e2ced86"
      },
      "execution_count": null,
      "outputs": [
        {
          "output_type": "execute_result",
          "data": {
            "text/plain": [
              "False"
            ]
          },
          "metadata": {},
          "execution_count": 17
        }
      ]
    },
    {
      "cell_type": "code",
      "source": [
        "if age < 18:\n",
        "    print('You aren\\'t old enough to vote.')"
      ],
      "metadata": {
        "id": "c0SDODh6CZYi"
      },
      "execution_count": null,
      "outputs": []
    },
    {
      "cell_type": "code",
      "source": [
        "age = 20\n",
        "if age >= 18 and age < 21:\n",
        "  print('At least you can vote.')\n",
        "  print('US Poker will have to wait.')"
      ],
      "metadata": {
        "colab": {
          "base_uri": "https://localhost:8080/"
        },
        "id": "bBQgu-MoCZcK",
        "outputId": "512491bd-1bd4-4fc9-a087-f41bbaa790a4"
      },
      "execution_count": null,
      "outputs": [
        {
          "output_type": "stream",
          "name": "stdout",
          "text": [
            "At least you can vote.\n",
            "US Poker will have to wait.\n"
          ]
        }
      ]
    },
    {
      "cell_type": "code",
      "source": [
        "if age >= 18:\n",
        "  print('You can vote.')\n",
        "  if age >= 21:\n",
        "    print('You can play poker in the US.')"
      ],
      "metadata": {
        "colab": {
          "base_uri": "https://localhost:8080/"
        },
        "id": "X2WFQqWz_Ufc",
        "outputId": "7a45016b-0412-4d6d-eeb3-3adcd26ce1e9"
      },
      "execution_count": null,
      "outputs": [
        {
          "output_type": "stream",
          "name": "stdout",
          "text": [
            "You can vote.\n"
          ]
        }
      ]
    },
    {
      "cell_type": "code",
      "source": [
        "age = 20\n",
        "if age < 18:\n",
        "  print('You aren\\'t old enough to vote.')\n",
        "else:\n",
        "  print('Welcome to our voting program.')"
      ],
      "metadata": {
        "id": "neioL70nvdJA",
        "colab": {
          "base_uri": "https://localhost:8080/"
        },
        "outputId": "aba5def4-dc83-48f6-9dfe-6c7d92e59432"
      },
      "execution_count": null,
      "outputs": [
        {
          "output_type": "stream",
          "name": "stdout",
          "text": [
            "Welcome to our voting program.\n"
          ]
        }
      ]
    },
    {
      "cell_type": "code",
      "source": [
        "if age <= 10:\n",
        "  print('Listen, learn, and have fun.')\n",
        "elif age<= 19:\n",
        "  print('Go fearlessly forward.')\n",
        "elif age <= 29:\n",
        "  print('Seize the day.')\n",
        "elif age <= 39:\n",
        "  print('Go for what you want.')\n",
        "elif age <= 59:\n",
        "  print('Stay physically fit and healthy.')\n",
        "else:\n",
        "  print('Each day is magical.')"
      ],
      "metadata": {
        "id": "h90QKxILG1O7",
        "colab": {
          "base_uri": "https://localhost:8080/"
        },
        "outputId": "20ec6c1f-e698-4700-e18c-7b1ca701421c"
      },
      "execution_count": null,
      "outputs": [
        {
          "output_type": "stream",
          "name": "stdout",
          "text": [
            "Seize the day.\n"
          ]
        }
      ]
    },
    {
      "cell_type": "code",
      "source": [
        "i = 1\n",
        "while i <= 10:\n",
        "  print(i)\n",
        "  i += 1"
      ],
      "metadata": {
        "id": "1iU7KV_wKa84",
        "colab": {
          "base_uri": "https://localhost:8080/"
        },
        "outputId": "85d6ff9c-5400-4437-f962-041361863387"
      },
      "execution_count": null,
      "outputs": [
        {
          "output_type": "stream",
          "name": "stdout",
          "text": [
            "1\n",
            "2\n",
            "3\n",
            "4\n",
            "5\n",
            "6\n",
            "7\n",
            "8\n",
            "9\n",
            "10\n"
          ]
        }
      ]
    },
    {
      "cell_type": "code",
      "source": [
        "# Find first number greater than 100 and divisible by 17.\n",
        "x = 100\n",
        "while x >= 100:\n",
        "  x += 1\n",
        "  if x % 17 == 0:\n",
        "    print('', x, 'is the first number greater than 100 that is divisible by 17.')\n",
        "    break"
      ],
      "metadata": {
        "id": "HSDS1EQzKbCy",
        "colab": {
          "base_uri": "https://localhost:8080/"
        },
        "outputId": "e48dc0c6-e2a5-4103-ba18-5fd6ebeec884"
      },
      "execution_count": null,
      "outputs": [
        {
          "output_type": "stream",
          "name": "stdout",
          "text": [
            " 102 is the first number greater than 100 that is divisible by 17.\n"
          ]
        }
      ]
    },
    {
      "cell_type": "code",
      "source": [
        "#find least common multiple of 24 and 36\n",
        "a = 24\n",
        "b = 36\n",
        "while a <= 100 and b <= 100:\n",
        "  a += 1\n",
        "  b += 1\n",
        "  if a % 24 and b % 36 == 0:\n",
        "    print('', b , 'is the least common multiple of 24 and 36')\n",
        "    break"
      ],
      "metadata": {
        "id": "iEsD6mMHKbGT",
        "colab": {
          "base_uri": "https://localhost:8080/"
        },
        "outputId": "ac1ee6a1-6b3a-46ef-fb3a-08418634c919"
      },
      "execution_count": null,
      "outputs": [
        {
          "output_type": "stream",
          "name": "stdout",
          "text": [
            " 72 is the least common multiple of 24 and 36\n"
          ]
        }
      ]
    },
    {
      "cell_type": "code",
      "source": [
        "print('Enter a number to see if it\\'s a perfect square.')"
      ],
      "metadata": {
        "id": "oJjtz3mEKbJw",
        "colab": {
          "base_uri": "https://localhost:8080/"
        },
        "outputId": "b149ba3c-6c6a-4bbb-907b-3c25a3a5f373"
      },
      "execution_count": null,
      "outputs": [
        {
          "output_type": "stream",
          "name": "stdout",
          "text": [
            "Enter a number to see if it's a perfect square.\n"
          ]
        }
      ]
    },
    {
      "cell_type": "code",
      "source": [
        "number = input()"
      ],
      "metadata": {
        "colab": {
          "base_uri": "https://localhost:8080/"
        },
        "id": "fzehiL019rX0",
        "outputId": "c4ecd288-435d-406e-f8a3-fa75d1bffff9"
      },
      "execution_count": null,
      "outputs": [
        {
          "name": "stdout",
          "output_type": "stream",
          "text": [
            "64\n"
          ]
        }
      ]
    },
    {
      "cell_type": "code",
      "source": [
        "number = abs(int(number))"
      ],
      "metadata": {
        "id": "yVggG48j9rkx"
      },
      "execution_count": null,
      "outputs": []
    },
    {
      "cell_type": "code",
      "source": [
        "i = -1\n"
      ],
      "metadata": {
        "id": "7aCkKPoRKbNK"
      },
      "execution_count": null,
      "outputs": []
    },
    {
      "cell_type": "code",
      "source": [
        "square = False"
      ],
      "metadata": {
        "id": "hBX2yKIDKbQx"
      },
      "execution_count": null,
      "outputs": []
    },
    {
      "cell_type": "code",
      "source": [
        "while i <= number:\n",
        "  i += 1"
      ],
      "metadata": {
        "id": "BBWJrU3UKbT5"
      },
      "execution_count": null,
      "outputs": []
    },
    {
      "cell_type": "code",
      "source": [
        "if i*i == number:\n",
        "  square = True\n",
        ""
      ],
      "metadata": {
        "id": "RHhqcVXRAKzz"
      },
      "execution_count": null,
      "outputs": []
    },
    {
      "cell_type": "code",
      "source": [
        "if square:\n",
        "  print('The square root of', number, 'is', i, '.')\n",
        "else:\n",
        "  print('', number, 'is not a perfect square.')"
      ],
      "metadata": {
        "id": "rD4VvHWDAK3q",
        "colab": {
          "base_uri": "https://localhost:8080/"
        },
        "outputId": "3464d99f-b097-46b2-ac48-3b1a71005f7c"
      },
      "execution_count": null,
      "outputs": [
        {
          "output_type": "stream",
          "name": "stdout",
          "text": [
            " 64 is not a perfect square.\n"
          ]
        }
      ]
    },
    {
      "cell_type": "code",
      "source": [
        "print('A one bedroom in the Bay Area is listed at $599,000.')"
      ],
      "metadata": {
        "id": "8ZFKh1PuAK8A",
        "colab": {
          "base_uri": "https://localhost:8080/"
        },
        "outputId": "0858b42b-e4b6-4e73-9232-2c0930b97574"
      },
      "execution_count": null,
      "outputs": [
        {
          "output_type": "stream",
          "name": "stdout",
          "text": [
            "A one bedroom in the Bay Area is listed at $599,000.\n"
          ]
        }
      ]
    },
    {
      "cell_type": "code",
      "source": [
        "offer = int(input('Enter your first offer on the house.'))"
      ],
      "metadata": {
        "id": "jIVZ42XcAK_e",
        "colab": {
          "base_uri": "https://localhost:8080/"
        },
        "outputId": "ab096332-64bb-40a5-fcf8-f7b0f079de12"
      },
      "execution_count": null,
      "outputs": [
        {
          "name": "stdout",
          "output_type": "stream",
          "text": [
            "Enter your first offer on the house.550000\n"
          ]
        }
      ]
    },
    {
      "cell_type": "code",
      "source": [
        "highest = int(input('Enter your highest offer on the house.'))"
      ],
      "metadata": {
        "colab": {
          "base_uri": "https://localhost:8080/"
        },
        "id": "-q8Wy4l0C0Pm",
        "outputId": "6199b4b9-3499-4007-efcf-319c0bc61b5a"
      },
      "execution_count": null,
      "outputs": [
        {
          "name": "stdout",
          "output_type": "stream",
          "text": [
            "Enter your highest offer on the house.20000\n"
          ]
        }
      ]
    },
    {
      "cell_type": "code",
      "source": [
        "increment = int(input('How much more do you want to offer each time if each time your offer is rejected ?'))"
      ],
      "metadata": {
        "colab": {
          "base_uri": "https://localhost:8080/"
        },
        "id": "gwimudkIC0Tw",
        "outputId": "f3929005-aafa-45c1-a508-c3deccdab181"
      },
      "execution_count": null,
      "outputs": [
        {
          "name": "stdout",
          "output_type": "stream",
          "text": [
            "How much more do you want to offer each time if each time your offer is rejected ?200000\n"
          ]
        }
      ]
    },
    {
      "cell_type": "code",
      "source": [
        "offer_accepted = False"
      ],
      "metadata": {
        "id": "3E6HO--TC0YI"
      },
      "execution_count": null,
      "outputs": []
    },
    {
      "cell_type": "code",
      "source": [
        "print(f\"We\\'re sorry, your offer of {offer} has not been accepted.\")"
      ],
      "metadata": {
        "colab": {
          "base_uri": "https://localhost:8080/"
        },
        "id": "_L82NiQSD7uw",
        "outputId": "61b2976a-f699-4553-e97a-574a04d46777"
      },
      "execution_count": null,
      "outputs": [
        {
          "output_type": "stream",
          "name": "stdout",
          "text": [
            "We're sorry, your offer of 750000 has not been accepted.\n"
          ]
        }
      ]
    },
    {
      "cell_type": "code",
      "source": [
        "best= offer"
      ],
      "metadata": {
        "id": "uaQBMDCRD74i"
      },
      "execution_count": null,
      "outputs": []
    },
    {
      "cell_type": "code",
      "source": [
        "offer += increment"
      ],
      "metadata": {
        "id": "Il_oqftcD706"
      },
      "execution_count": null,
      "outputs": []
    },
    {
      "cell_type": "code",
      "source": [
        "while offer <= best:\n",
        "  if offer >= 650000:\n",
        "    offer_accepted = True\n",
        "    print('Your offer of', offer, 'has been accepted!')\n",
        "    break"
      ],
      "metadata": {
        "id": "OOiqhFNXALDT"
      },
      "execution_count": null,
      "outputs": []
    },
    {
      "cell_type": "code",
      "source": [
        "for i in 'Amazing':\n",
        "  print(i)"
      ],
      "metadata": {
        "colab": {
          "base_uri": "https://localhost:8080/"
        },
        "id": "KrFtoLA8D78P",
        "outputId": "b6fe1966-bcc8-49aa-ce3c-0bbe84065df4"
      },
      "execution_count": null,
      "outputs": [
        {
          "output_type": "stream",
          "name": "stdout",
          "text": [
            "A\n",
            "m\n",
            "a\n",
            "z\n",
            "i\n",
            "n\n",
            "g\n"
          ]
        }
      ]
    },
    {
      "cell_type": "code",
      "source": [
        "for i in range(1,10):\n",
        "  print(i)"
      ],
      "metadata": {
        "colab": {
          "base_uri": "https://localhost:8080/"
        },
        "id": "d4LStUX8GdDF",
        "outputId": "646d53c9-c66b-40a4-887f-b73ce4092117"
      },
      "execution_count": null,
      "outputs": [
        {
          "output_type": "stream",
          "name": "stdout",
          "text": [
            "1\n",
            "2\n",
            "3\n",
            "4\n",
            "5\n",
            "6\n",
            "7\n",
            "8\n",
            "9\n"
          ]
        }
      ]
    },
    {
      "cell_type": "code",
      "source": [
        "for i in range(1,10):\n",
        "  print(i)"
      ],
      "metadata": {
        "colab": {
          "base_uri": "https://localhost:8080/"
        },
        "id": "eC1X3dYoGdJ3",
        "outputId": "3178ea65-c062-4d03-db76-2445c0373f1c"
      },
      "execution_count": null,
      "outputs": [
        {
          "output_type": "stream",
          "name": "stdout",
          "text": [
            "1\n",
            "2\n",
            "3\n",
            "4\n",
            "5\n",
            "6\n",
            "7\n",
            "8\n",
            "9\n"
          ]
        }
      ]
    },
    {
      "cell_type": "code",
      "source": [
        "for i in range(1, 11, 2):\n",
        "  print(i)"
      ],
      "metadata": {
        "colab": {
          "base_uri": "https://localhost:8080/"
        },
        "id": "gmsHHkosJ-1d",
        "outputId": "4b53a21d-0925-43d4-a7f3-7e58840f7d61"
      },
      "execution_count": null,
      "outputs": [
        {
          "output_type": "stream",
          "name": "stdout",
          "text": [
            "1\n",
            "3\n",
            "5\n",
            "7\n",
            "9\n"
          ]
        }
      ]
    },
    {
      "cell_type": "code",
      "source": [
        "for i in range(3, 0, -1):\n",
        "  print(i)"
      ],
      "metadata": {
        "colab": {
          "base_uri": "https://localhost:8080/"
        },
        "id": "V7hw3JDzJ-5M",
        "outputId": "107ecf49-7c73-444f-f1dc-daaab8eea267"
      },
      "execution_count": null,
      "outputs": [
        {
          "output_type": "stream",
          "name": "stdout",
          "text": [
            "3\n",
            "2\n",
            "1\n"
          ]
        }
      ]
    },
    {
      "cell_type": "code",
      "source": [
        "name = 'Anthony'\n",
        "for i in range(3):\n",
        "  for i in name:\n",
        "    print(i+'!')"
      ],
      "metadata": {
        "colab": {
          "base_uri": "https://localhost:8080/"
        },
        "id": "_mHe17Z3J-80",
        "outputId": "54b70463-d96b-446f-d2c2-bf16c5a57dca"
      },
      "execution_count": null,
      "outputs": [
        {
          "output_type": "stream",
          "name": "stdout",
          "text": [
            "A!\n",
            "n!\n",
            "t!\n",
            "h!\n",
            "o!\n",
            "n!\n",
            "y!\n",
            "A!\n",
            "n!\n",
            "t!\n",
            "h!\n",
            "o!\n",
            "n!\n",
            "y!\n",
            "A!\n",
            "n!\n",
            "t!\n",
            "h!\n",
            "o!\n",
            "n!\n",
            "y!\n"
          ]
        }
      ]
    },
    {
      "cell_type": "code",
      "source": [
        "for num in range(10,100):\n",
        "  if num % 2 == 0:\n",
        "    continue\n",
        "  if num % 3 == 0:\n",
        "    continue\n",
        "  if num % 5 == 0:\n",
        "    continue\n",
        "  if num % 7 == 0:\n",
        "    continue\n",
        "print(num)"
      ],
      "metadata": {
        "id": "fX2x9C5zJ_Ay",
        "colab": {
          "base_uri": "https://localhost:8080/"
        },
        "outputId": "c75fe340-23b2-47f1-e9ed-af79717e5eae"
      },
      "execution_count": null,
      "outputs": [
        {
          "output_type": "stream",
          "name": "stdout",
          "text": [
            "99\n"
          ]
        }
      ]
    },
    {
      "cell_type": "code",
      "source": [
        "Name= input(\"Please input your name \")"
      ],
      "metadata": {
        "id": "FxI9uCbnJ_D1",
        "colab": {
          "base_uri": "https://localhost:8080/"
        },
        "outputId": "0dd20b95-9215-47c6-f5fb-7dc6fc386d22"
      },
      "execution_count": null,
      "outputs": [
        {
          "name": "stdout",
          "output_type": "stream",
          "text": [
            "Please input your name Anthony\n"
          ]
        }
      ]
    },
    {
      "cell_type": "code",
      "source": [
        "Jeff =(f\"Hello {Name} how can I help you today?\")\n",
        "print(Jeff)"
      ],
      "metadata": {
        "id": "iv-t6evcJ_HU",
        "colab": {
          "base_uri": "https://localhost:8080/"
        },
        "outputId": "7cda7103-08d8-44c1-8e4e-ca41374ff770"
      },
      "execution_count": null,
      "outputs": [
        {
          "output_type": "stream",
          "name": "stdout",
          "text": [
            "Hello Anthony how can I help you today?\n"
          ]
        }
      ]
    },
    {
      "cell_type": "code",
      "source": [
        "response_1= input()"
      ],
      "metadata": {
        "id": "KkGKTAZpJ_K4",
        "colab": {
          "base_uri": "https://localhost:8080/"
        },
        "outputId": "089978ab-fe81-4300-cbec-a328b001ccb0"
      },
      "execution_count": null,
      "outputs": [
        {
          "name": "stdout",
          "output_type": "stream",
          "text": [
            "Your a butt\n"
          ]
        }
      ]
    },
    {
      "cell_type": "code",
      "source": [
        "Jeff_answer_1= (f\"I see how does {response_1} make you feel?\")\n",
        "print(Jeff_answer_1)"
      ],
      "metadata": {
        "id": "XwNa18aSGdNG",
        "colab": {
          "base_uri": "https://localhost:8080/"
        },
        "outputId": "d2af4c4c-4bfd-4565-eef2-3934583bde7d"
      },
      "execution_count": null,
      "outputs": [
        {
          "output_type": "stream",
          "name": "stdout",
          "text": [
            "I see how does Banking  make you feel?\n"
          ]
        }
      ]
    },
    {
      "cell_type": "code",
      "source": [],
      "metadata": {
        "id": "2mRw5dHI7tgj"
      },
      "execution_count": null,
      "outputs": []
    },
    {
      "cell_type": "code",
      "source": [
        "User_1=input(\"Please input your name \")"
      ],
      "metadata": {
        "colab": {
          "base_uri": "https://localhost:8080/"
        },
        "id": "Z1_xJryRLyN6",
        "outputId": "f6b246f8-1710-48e8-ecc6-6757f9535723"
      },
      "execution_count": null,
      "outputs": [
        {
          "name": "stdout",
          "output_type": "stream",
          "text": [
            "Please input your name Anthony\n"
          ]
        }
      ]
    },
    {
      "cell_type": "code",
      "source": [
        "Susan_intro=(f\"Hello {User_1} how are you feeling today on a scale of 1 - 10\")\n",
        "print(Susan_intro)"
      ],
      "metadata": {
        "colab": {
          "base_uri": "https://localhost:8080/"
        },
        "id": "gb26G_vNLyTu",
        "outputId": "8762f5cb-3ee4-4e72-9a70-207e8db214a3"
      },
      "execution_count": null,
      "outputs": [
        {
          "output_type": "stream",
          "name": "stdout",
          "text": [
            "Hello Anthony how are you feeling today on a scale of 1 - 10\n"
          ]
        }
      ]
    },
    {
      "cell_type": "code",
      "source": [
        "Feeling= input()\n",
        "if Feeling == 1:\n",
        "  print(\"Day will get better\")\n",
        "elif Feeling == 2:\n",
        "  print(\"I get it, it will be better\")\n",
        "elif Feeling == 3:\n",
        "  print(\"Sun gets brighter everyday\")\n",
        "elif Feeling == 4:\n",
        "  print(\"Could be worse\")\n",
        "elif Feeling == 5:\n",
        "  print(\"Not bad but not worse\")\n",
        "elif Feeling == 6:\n",
        "  print (\"Life is getting better\")\n",
        "elif Feeling == 7:\n",
        "  print (\"Life is good\")\n",
        "elif Feeling == 8:\n",
        "  print(\"Feels good to win keep it up\")\n",
        "elif Feeling == 9:\n",
        "  print(\"Awesome Job! Keep it up\")\n",
        "elif Feeling == 10:\n",
        "  print(\"Wow, keep up the momentum\")\n",
        "else:\n",
        "  print(\"Even a broken clock is right twice a day\")\n"
      ],
      "metadata": {
        "id": "1SoyTwztLygN",
        "colab": {
          "base_uri": "https://localhost:8080/"
        },
        "outputId": "607582aa-e371-4d27-d4e1-237c3cb2751c"
      },
      "execution_count": null,
      "outputs": [
        {
          "output_type": "stream",
          "name": "stdout",
          "text": [
            "\n",
            "Even a broken clock is right twice a day\n"
          ]
        }
      ]
    },
    {
      "cell_type": "code",
      "source": [
        "todo = [\"pick oup laundry\", \"buy Groceries\", \"pay electric bills\"]"
      ],
      "metadata": {
        "id": "DWpfVt387spX"
      },
      "execution_count": null,
      "outputs": []
    },
    {
      "cell_type": "code",
      "source": [
        "User = {\n",
        "  \"first_name\": \"Jack\",\n",
        "  \"last_name\":\"White\",\n",
        "  \"age\": 41,\n",
        "  \"email\": \"jack.white@gmail.com\"\n",
        "}"
      ],
      "metadata": {
        "id": "ozO2ystrLyiR"
      },
      "execution_count": null,
      "outputs": []
    },
    {
      "cell_type": "code",
      "source": [
        "point = (1,2)"
      ],
      "metadata": {
        "id": "AjZa2lL1DFQU"
      },
      "execution_count": null,
      "outputs": []
    },
    {
      "cell_type": "code",
      "source": [
        "my_set = {3, 5, 11, 17, 31}"
      ],
      "metadata": {
        "id": "qEbsifUcD86a"
      },
      "execution_count": null,
      "outputs": []
    },
    {
      "cell_type": "code",
      "source": [
        "shopping = [\"bread\",\"milk\", \"eggs\"]\n",
        "print(shopping)"
      ],
      "metadata": {
        "colab": {
          "base_uri": "https://localhost:8080/"
        },
        "id": "WPEL-sA7D8-f",
        "outputId": "5d254605-45be-4252-838f-b91536a378c2"
      },
      "execution_count": null,
      "outputs": [
        {
          "output_type": "stream",
          "name": "stdout",
          "text": [
            "['bread', 'milk', 'eggs']\n"
          ]
        }
      ]
    },
    {
      "cell_type": "code",
      "source": [
        "for item in shopping:\n",
        "  print(item)"
      ],
      "metadata": {
        "colab": {
          "base_uri": "https://localhost:8080/"
        },
        "id": "Kvnwk34SD9FF",
        "outputId": "048c900e-59fb-4ed9-bf12-92380e779d58"
      },
      "execution_count": null,
      "outputs": [
        {
          "output_type": "stream",
          "name": "stdout",
          "text": [
            "bread\n",
            "milk\n",
            "eggs\n"
          ]
        }
      ]
    },
    {
      "cell_type": "code",
      "source": [
        "mixed = [365, \"days\", True]\n",
        "print(mixed)"
      ],
      "metadata": {
        "colab": {
          "base_uri": "https://localhost:8080/"
        },
        "id": "6kgIVzCCDFXL",
        "outputId": "201264e8-6493-4329-f7f1-0d60f4f99f23"
      },
      "execution_count": null,
      "outputs": [
        {
          "output_type": "stream",
          "name": "stdout",
          "text": [
            "[365, 'days', True]\n"
          ]
        }
      ]
    },
    {
      "cell_type": "code",
      "source": [
        "print(len(shopping))"
      ],
      "metadata": {
        "id": "-CP53uc0HGIi",
        "colab": {
          "base_uri": "https://localhost:8080/"
        },
        "outputId": "0cba3236-3a7e-4b94-a800-c9387d197650"
      },
      "execution_count": null,
      "outputs": [
        {
          "output_type": "stream",
          "name": "stdout",
          "text": [
            "3\n"
          ]
        }
      ]
    },
    {
      "cell_type": "code",
      "source": [
        "list1 = [1,2,3]\n",
        "list2 = [4,5,6]\n",
        "final_list = list1 + list2\n",
        "print(final_list)"
      ],
      "metadata": {
        "id": "vIWrEz_sHGP-",
        "colab": {
          "base_uri": "https://localhost:8080/"
        },
        "outputId": "0145db36-c276-4657-fff6-555470eba9d9"
      },
      "execution_count": null,
      "outputs": [
        {
          "output_type": "stream",
          "name": "stdout",
          "text": [
            "[1, 2, 3, 4, 5, 6]\n"
          ]
        }
      ]
    },
    {
      "cell_type": "code",
      "source": [
        "list3 = ['oi']\n",
        "print(list3*3)"
      ],
      "metadata": {
        "id": "Gk7rmeAUHGU0",
        "colab": {
          "base_uri": "https://localhost:8080/"
        },
        "outputId": "33af5bfd-984b-432b-99d1-18a0dab72b74"
      },
      "execution_count": null,
      "outputs": [
        {
          "output_type": "stream",
          "name": "stdout",
          "text": [
            "['oi', 'oi', 'oi']\n"
          ]
        }
      ]
    },
    {
      "cell_type": "code",
      "source": [
        "print(shopping[1])"
      ],
      "metadata": {
        "id": "x1v7Xcx5HGYw",
        "colab": {
          "base_uri": "https://localhost:8080/"
        },
        "outputId": "e7149e4c-3ef9-47ee-f7c8-a63f3f6e3e69"
      },
      "execution_count": null,
      "outputs": [
        {
          "output_type": "stream",
          "name": "stdout",
          "text": [
            "milk\n"
          ]
        }
      ]
    },
    {
      "cell_type": "code",
      "source": [
        "shopping[1]= \"banana\"\n",
        "print(shopping)"
      ],
      "metadata": {
        "colab": {
          "base_uri": "https://localhost:8080/"
        },
        "id": "QHhhgZWekv9o",
        "outputId": "57e630d8-653b-4336-d182-6c74fe224f3f"
      },
      "execution_count": null,
      "outputs": [
        {
          "output_type": "stream",
          "name": "stdout",
          "text": [
            "['bread', 'banana', 'eggs']\n"
          ]
        }
      ]
    },
    {
      "cell_type": "code",
      "source": [
        "print(shopping[-1])"
      ],
      "metadata": {
        "colab": {
          "base_uri": "https://localhost:8080/"
        },
        "id": "uGBc4IQ6kwBd",
        "outputId": "7e8d6ce9-3b0e-4ee7-b6fa-5945380435e4"
      },
      "execution_count": null,
      "outputs": [
        {
          "output_type": "stream",
          "name": "stdout",
          "text": [
            "eggs\n"
          ]
        }
      ]
    },
    {
      "cell_type": "code",
      "source": [
        "print(shopping[0:2])"
      ],
      "metadata": {
        "colab": {
          "base_uri": "https://localhost:8080/"
        },
        "id": "BjogDyKzkwEj",
        "outputId": "41268e75-c5c1-4808-b68a-af1e0cf5fa18"
      },
      "execution_count": null,
      "outputs": [
        {
          "output_type": "stream",
          "name": "stdout",
          "text": [
            "['bread', 'banana']\n"
          ]
        }
      ]
    },
    {
      "cell_type": "code",
      "source": [
        "print(shopping[:3])"
      ],
      "metadata": {
        "colab": {
          "base_uri": "https://localhost:8080/"
        },
        "id": "_E5RbcOgkwHv",
        "outputId": "6b1d4d21-e443-4d29-9cf6-e8e925c96110"
      },
      "execution_count": null,
      "outputs": [
        {
          "output_type": "stream",
          "name": "stdout",
          "text": [
            "['bread', 'banana', 'eggs']\n"
          ]
        }
      ]
    },
    {
      "cell_type": "code",
      "source": [
        "shopping = [\"bread\",\"milk\", \"eggs\"]\n",
        "shopping.append(\"apple\")\n",
        "print(shopping)"
      ],
      "metadata": {
        "id": "rjx-UGxakwLL",
        "colab": {
          "base_uri": "https://localhost:8080/"
        },
        "outputId": "a5c14dda-8416-4d15-b77a-c04646b758a4"
      },
      "execution_count": null,
      "outputs": [
        {
          "output_type": "stream",
          "name": "stdout",
          "text": [
            "['bread', 'milk', 'eggs', 'apple']\n"
          ]
        }
      ]
    },
    {
      "cell_type": "code",
      "source": [
        "shopping = []\n",
        "shopping.append('bread')\n",
        "shopping.append('milk')\n",
        "shopping.append('eggs')\n",
        "shopping.append('apple')\n",
        "print(shopping)"
      ],
      "metadata": {
        "id": "snUoOnBAkwQo",
        "colab": {
          "base_uri": "https://localhost:8080/"
        },
        "outputId": "8e3e9c86-6d64-4d22-ddeb-927f97768dd4"
      },
      "execution_count": null,
      "outputs": [
        {
          "output_type": "stream",
          "name": "stdout",
          "text": [
            "['bread', 'milk', 'eggs', 'apple']\n"
          ]
        }
      ]
    },
    {
      "cell_type": "code",
      "source": [
        "shopping.insert(2, 'ham')\n",
        "print(shopping)"
      ],
      "metadata": {
        "colab": {
          "base_uri": "https://localhost:8080/"
        },
        "id": "_kBK6ClDkwHT",
        "outputId": "cd107998-766a-4a6a-ba50-9df725db18d4"
      },
      "execution_count": null,
      "outputs": [
        {
          "output_type": "stream",
          "name": "stdout",
          "text": [
            "['bread', 'milk', 'ham', 'eggs', 'apple']\n"
          ]
        }
      ]
    },
    {
      "cell_type": "code",
      "source": [
        "primes_squared = []\n",
        "for i in primes:\n",
        "    primes_squared.append(i**2)\n",
        "print(primes_squared)"
      ],
      "metadata": {
        "colab": {
          "base_uri": "https://localhost:8080/"
        },
        "id": "0MkMHb9QkwR-",
        "outputId": "ddbcc416-aa8d-4130-fb1b-bd599625d9e0"
      },
      "execution_count": null,
      "outputs": [
        {
          "output_type": "stream",
          "name": "stdout",
          "text": [
            "[4, 9, 25, 49, 121]\n"
          ]
        }
      ]
    },
    {
      "cell_type": "code",
      "source": [
        "primes = [2, 3, 5, 7, 11]"
      ],
      "metadata": {
        "id": "hGRSwNNqkwLc"
      },
      "execution_count": null,
      "outputs": []
    },
    {
      "cell_type": "code",
      "source": [
        "m = [[1, 2, 3], [4, 5, 6]]"
      ],
      "metadata": {
        "id": "fjLYf1DVmUbk"
      },
      "execution_count": null,
      "outputs": []
    },
    {
      "cell_type": "code",
      "source": [
        "print(m[1][1])"
      ],
      "metadata": {
        "colab": {
          "base_uri": "https://localhost:8080/"
        },
        "id": "BaT7MG8PmUme",
        "outputId": "5a3779ca-3aa9-4140-a8c2-d317dac826d7"
      },
      "execution_count": null,
      "outputs": [
        {
          "output_type": "stream",
          "name": "stdout",
          "text": [
            "5\n"
          ]
        }
      ]
    },
    {
      "cell_type": "code",
      "source": [
        "for row in m:\n",
        "  for col in row:\n",
        "    print(col)"
      ],
      "metadata": {
        "colab": {
          "base_uri": "https://localhost:8080/"
        },
        "id": "kykxbmqzmWAm",
        "outputId": "b316299f-f87f-4107-cc23-1d70f66a4f81"
      },
      "execution_count": null,
      "outputs": [
        {
          "output_type": "stream",
          "name": "stdout",
          "text": [
            "1\n",
            "2\n",
            "3\n",
            "4\n",
            "5\n",
            "6\n"
          ]
        }
      ]
    },
    {
      "cell_type": "code",
      "source": [
        "name= [[\"John Mckee\", 38, \"Sales\"], [\"Lisa Crawford\", 29, \"Marketing\"], [\"Sujan Patel\", 33, \"Human Resources\"]]"
      ],
      "metadata": {
        "id": "viwYo5HJkwXm"
      },
      "execution_count": null,
      "outputs": []
    },
    {
      "cell_type": "code",
      "source": [
        "print(name[1])\n"
      ],
      "metadata": {
        "id": "QCF_QimOn1U7",
        "colab": {
          "base_uri": "https://localhost:8080/"
        },
        "outputId": "58b0eb7e-31c2-477b-852b-9f164863594f"
      },
      "execution_count": null,
      "outputs": [
        {
          "output_type": "stream",
          "name": "stdout",
          "text": [
            "['Lisa Crawford', 29, 'Marketing']\n"
          ]
        }
      ]
    },
    {
      "cell_type": "code",
      "source": [
        "X = [[1,2,3],[4,5,6],[7,8,9]]\n",
        "Y = [[10,11,12],[13,14,15],[16,17,18]]"
      ],
      "metadata": {
        "id": "uzasGmO3n1eK"
      },
      "execution_count": null,
      "outputs": []
    },
    {
      "cell_type": "code",
      "source": [
        "# Initialize a result placeholder\n",
        "result = [[0,0,0], [0,0,0],[0,0,0]]"
      ],
      "metadata": {
        "id": "gDnpe31En1mh"
      },
      "execution_count": null,
      "outputs": []
    },
    {
      "cell_type": "code",
      "source": [
        "# iterate through rows\n",
        "for i in range(len(X)):\n",
        "# iterate through columns\n",
        "  for j in range(len(X[0])):\n",
        "    result[i][j] = X[i][j] + Y[i][j]\n",
        "print(result)"
      ],
      "metadata": {
        "colab": {
          "base_uri": "https://localhost:8080/"
        },
        "id": "Seach9RkbcY2",
        "outputId": "3ec1cbad-6569-43ac-9d30-d03345c48138"
      },
      "execution_count": null,
      "outputs": [
        {
          "output_type": "stream",
          "name": "stdout",
          "text": [
            "[[11, 13, 15], [17, 19, 21], [23, 25, 27]]\n"
          ]
        }
      ]
    },
    {
      "cell_type": "code",
      "source": [
        "X = [[10,11,12],[13,14,15],[16,17,18]]\n",
        "Y = [[1,2,3],[4,5,6],[7,8,9]]\n",
        "# Initialize a result placeholder\n",
        "result = [[0,0,0],\n",
        "[0,0,0],\n",
        "    [0,0,0]]\n",
        "# iterate through rows\n",
        "for i in range(len(X)):\n",
        "# iterate through columns\n",
        "  for j in range(len(X[0])):\n",
        "    result[i][j] = X[i][j] - Y[i][j]\n",
        "print(result)"
      ],
      "metadata": {
        "colab": {
          "base_uri": "https://localhost:8080/"
        },
        "id": "LpPorMKVbcdO",
        "outputId": "a0707fff-31bb-4f7f-d050-72a0a2e3dd02"
      },
      "execution_count": null,
      "outputs": [
        {
          "output_type": "stream",
          "name": "stdout",
          "text": [
            "[[9, 9, 9], [9, 9, 9], [9, 9, 9]]\n"
          ]
        }
      ]
    },
    {
      "cell_type": "code",
      "source": [
        "X = [[1, 2], [4, 5], [3, 6]]\n",
        "Y = [[1,2,3,4],[5,6,7,8]]"
      ],
      "metadata": {
        "id": "_ZAC7sISbcgo"
      },
      "execution_count": null,
      "outputs": []
    },
    {
      "cell_type": "code",
      "source": [
        "result = [[0, 0, 0, 0], [0, 0, 0, 0], [0, 0, 0, 0]]"
      ],
      "metadata": {
        "id": "8hWQ3u7rbckN"
      },
      "execution_count": null,
      "outputs": []
    },
    {
      "cell_type": "code",
      "source": [
        "# iterating by row of X\n",
        "for i in range(len(X)):\n",
        "  # iterating by column by Y\n",
        "  for j in range(len(Y[0])):\n",
        "    # iterating by rows of Y\n",
        "    for k in range(len(Y)):\n",
        "      result[i][j] += X[i][k] * Y[k][j]"
      ],
      "metadata": {
        "id": "YmF9H17KcQZt"
      },
      "execution_count": null,
      "outputs": []
    },
    {
      "cell_type": "code",
      "source": [
        "for r in result:\n",
        "  print(r)"
      ],
      "metadata": {
        "colab": {
          "base_uri": "https://localhost:8080/"
        },
        "id": "Sa__9MwtcQdl",
        "outputId": "ac4056d5-01f6-43bd-9b0f-11acb7f8292b"
      },
      "execution_count": null,
      "outputs": [
        {
          "output_type": "stream",
          "name": "stdout",
          "text": [
            "[11, 14, 17, 20]\n",
            "[29, 38, 47, 56]\n",
            "[33, 42, 51, 60]\n"
          ]
        }
      ]
    },
    {
      "cell_type": "code",
      "source": [
        "employee = {\n",
        "  'name': \"Jack Nelson\",\n",
        "  'age': 32,\n",
        "  'department': \"sales\"\n",
        "}"
      ],
      "metadata": {
        "id": "b0q4Je5zcQhM"
      },
      "execution_count": null,
      "outputs": []
    },
    {
      "cell_type": "code",
      "source": [
        "movie = {\n",
        "  \"title\": \"The Godfather\",\n",
        "  \"director\": \"Francis Ford Coppola\",\n",
        "  \"year\": 1972,\n",
        "  \"rating\": 9.2\n",
        "}"
      ],
      "metadata": {
        "id": "wQKQPqT8dHE6"
      },
      "execution_count": null,
      "outputs": []
    },
    {
      "cell_type": "code",
      "source": [
        "print(movie['year'])"
      ],
      "metadata": {
        "colab": {
          "base_uri": "https://localhost:8080/"
        },
        "id": "tuh_bAx4aobc",
        "outputId": "4ba7718a-7db7-437d-a865-3a6507b2a8fc"
      },
      "execution_count": null,
      "outputs": [
        {
          "output_type": "stream",
          "name": "stdout",
          "text": [
            "1972\n"
          ]
        }
      ]
    },
    {
      "cell_type": "code",
      "source": [
        "movie['rating'] = (movie['rating'] + 9.3)/2\n",
        "print(movie['rating'])"
      ],
      "metadata": {
        "colab": {
          "base_uri": "https://localhost:8080/"
        },
        "id": "SNzRIfQgaohO",
        "outputId": "12fd42aa-7a40-415f-ebf4-0c386a008b8e"
      },
      "execution_count": null,
      "outputs": [
        {
          "output_type": "stream",
          "name": "stdout",
          "text": [
            "9.25\n"
          ]
        }
      ]
    },
    {
      "cell_type": "code",
      "source": [
        "movie = {}\n",
        "movie['title'] = \"The Godfather\"\n",
        "movie['director'] = \"Francis Ford Coppola\"\n",
        "movie['year'] = 1972\n",
        "movie['rating'] = 9.2"
      ],
      "metadata": {
        "id": "E5IP6JN6aokk"
      },
      "execution_count": null,
      "outputs": []
    },
    {
      "cell_type": "code",
      "source": [
        "movie['actors'] = ['Marlon Brando', 'Al Pacino',\n",
        "  'James Caan']\n",
        "movie['other_details'] = {\n",
        "  'runtime': 175,\n",
        "  'language': 'English'\n",
        "}\n",
        "print(movie)"
      ],
      "metadata": {
        "colab": {
          "base_uri": "https://localhost:8080/"
        },
        "id": "7Audzr09aon4",
        "outputId": "e9998dab-1b71-4d5e-8f86-76be12b7ca2a"
      },
      "execution_count": null,
      "outputs": [
        {
          "output_type": "stream",
          "name": "stdout",
          "text": [
            "{'title': 'The Godfather', 'director': 'Francis Ford Coppola', 'year': 1972, 'rating': 9.2, 'actors': ['Marlon Brando', 'Al Pacino', 'James Caan'], 'other_details': {'runtime': 175, 'language': 'English'}}\n"
          ]
        }
      ]
    },
    {
      "cell_type": "code",
      "source": [
        "employee_1= {}\n",
        "employee[\"name\"]= \"John Mckee\"\n",
        "employee[\"age\"]= 29\n",
        "employee[\"department\"]= \"sales\""
      ],
      "metadata": {
        "id": "fV7-T716anqv"
      },
      "execution_count": null,
      "outputs": []
    },
    {
      "cell_type": "code",
      "source": [
        "employee_2={}\n",
        "employee_2[\"name\"]= \"Lisa Crawford\"\n",
        "employee_2[\"age\"]=29\n",
        "employee_2[\"department\"]= \"marketing\""
      ],
      "metadata": {
        "id": "fAJKC8mIdHPq"
      },
      "execution_count": null,
      "outputs": []
    },
    {
      "cell_type": "code",
      "source": [
        "employee_3={}\n",
        "employee_3[\"name\"]= \"Sujan Patel\"\n",
        "employee_3[\"age\"]= 33\n",
        "employee_3[\"department\"]=\"HR\""
      ],
      "metadata": {
        "id": "JD8vT2xKcQkW"
      },
      "execution_count": null,
      "outputs": []
    },
    {
      "cell_type": "code",
      "source": [
        "print(employee_3)"
      ],
      "metadata": {
        "colab": {
          "base_uri": "https://localhost:8080/"
        },
        "id": "zMarK2fsgbkT",
        "outputId": "805d2c6b-3fe1-4ccf-e15a-011a45e6d03b"
      },
      "execution_count": null,
      "outputs": [
        {
          "output_type": "stream",
          "name": "stdout",
          "text": [
            "{'name': 'Sujan Patel', 'age': 33, 'department': 'HR'}\n"
          ]
        }
      ]
    },
    {
      "cell_type": "code",
      "source": [
        "album_sales = {'barbara':150, 'aretha':75,\n",
        "  'madonna':300, 'mariah':220}\n",
        "print( album_sales.values())\n",
        "print(list( album_sales.values()))"
      ],
      "metadata": {
        "colab": {
          "base_uri": "https://localhost:8080/"
        },
        "id": "I_LhIkiDgbph",
        "outputId": "ee3da609-673b-461d-d1dd-dc455d3f34d3"
      },
      "execution_count": null,
      "outputs": [
        {
          "output_type": "stream",
          "name": "stdout",
          "text": [
            "dict_values([150, 75, 300, 220])\n",
            "[150, 75, 300, 220]\n"
          ]
        }
      ]
    },
    {
      "cell_type": "code",
      "source": [
        "print(list(album_sales.keys()))"
      ],
      "metadata": {
        "colab": {
          "base_uri": "https://localhost:8080/"
        },
        "id": "q4WTeTZVgbwK",
        "outputId": "c7fe859b-8f18-450c-b972-321b0ed9676f"
      },
      "execution_count": null,
      "outputs": [
        {
          "output_type": "stream",
          "name": "stdout",
          "text": [
            "['barbara', 'aretha', 'madonna', 'mariah']\n"
          ]
        }
      ]
    },
    {
      "cell_type": "code",
      "source": [
        "for item in  album_sales.items():\n",
        "  print(item)"
      ],
      "metadata": {
        "colab": {
          "base_uri": "https://localhost:8080/"
        },
        "id": "pG46jbcugcBh",
        "outputId": "54b48018-4ff8-471d-f06d-c5e6be5250af"
      },
      "execution_count": null,
      "outputs": [
        {
          "output_type": "stream",
          "name": "stdout",
          "text": [
            "('barbara', 150)\n",
            "('aretha', 75)\n",
            "('madonna', 300)\n",
            "('mariah', 220)\n"
          ]
        }
      ]
    },
    {
      "cell_type": "code",
      "source": [
        "weekdays_list = ['Monday', 'Tuesday', 'Wednesday',\n",
        "  'Thursday','Friday','Saturday', 'Sunday']"
      ],
      "metadata": {
        "id": "I0uvAN6rgcJs"
      },
      "execution_count": null,
      "outputs": []
    },
    {
      "cell_type": "code",
      "source": [
        "weekdays_tuple = ('Monday', 'Tuesday', 'Wednesday',\n",
        "  'Thursday','Friday','Saturday', 'Sunday')"
      ],
      "metadata": {
        "id": "7425hmkzgcQk"
      },
      "execution_count": null,
      "outputs": []
    },
    {
      "cell_type": "code",
      "source": [
        "t = ('ballet', 'modern', 'hip-hop')\n",
        "print(len(t))"
      ],
      "metadata": {
        "id": "wQV4aUHyn1v5",
        "colab": {
          "base_uri": "https://localhost:8080/"
        },
        "outputId": "b48db19f-c121-4f72-adb3-eada43cc1258"
      },
      "execution_count": null,
      "outputs": [
        {
          "output_type": "stream",
          "name": "stdout",
          "text": [
            "3\n"
          ]
        }
      ]
    },
    {
      "cell_type": "code",
      "source": [
        "t[2] = 'jazz'"
      ],
      "metadata": {
        "colab": {
          "base_uri": "https://localhost:8080/",
          "height": 261
        },
        "id": "Fd-QZkmRjU_X",
        "outputId": "a1c38a3c-c2a1-45eb-ed5d-8695d58633fe"
      },
      "execution_count": null,
      "outputs": [
        {
          "output_type": "error",
          "ename": "TypeError",
          "evalue": "ignored",
          "traceback": [
            "\u001b[0;31m---------------------------------------------------------------------------\u001b[0m",
            "\u001b[0;31mTypeError\u001b[0m                                 Traceback (most recent call last)",
            "\u001b[0;32m<ipython-input-25-44651e94c673>\u001b[0m in \u001b[0;36m<module>\u001b[0;34m\u001b[0m\n\u001b[0;32m----> 1\u001b[0;31m \u001b[0mt\u001b[0m\u001b[0;34m[\u001b[0m\u001b[0;36m2\u001b[0m\u001b[0;34m]\u001b[0m \u001b[0;34m=\u001b[0m \u001b[0;34m'jazz'\u001b[0m\u001b[0;34m\u001b[0m\u001b[0;34m\u001b[0m\u001b[0m\n\u001b[0m",
            "\u001b[0;31mTypeError\u001b[0m: 'tuple' object does not support item assignment"
          ]
        }
      ]
    },
    {
      "cell_type": "code",
      "source": [
        "print(t + ('jazz', 'tap'))\n",
        "print(t)"
      ],
      "metadata": {
        "colab": {
          "base_uri": "https://localhost:8080/"
        },
        "id": "1VQgiZ5ajVDZ",
        "outputId": "e1b90693-e5d7-43c5-84c3-938e2eb829c9"
      },
      "execution_count": null,
      "outputs": [
        {
          "output_type": "stream",
          "name": "stdout",
          "text": [
            "('ballet', 'modern', 'hip-hop', 'jazz', 'tap')\n",
            "('ballet', 'modern', 'hip-hop')\n"
          ]
        }
      ]
    },
    {
      "cell_type": "code",
      "source": [
        "t_mixed = 'jazz', True, 3\n",
        "print(t_mixed)\n",
        "t_dance = ('jazz',3), ('ballroom',2),('contemporary',5)\n",
        "print(t_dance)"
      ],
      "metadata": {
        "colab": {
          "base_uri": "https://localhost:8080/"
        },
        "id": "zIu0b-iejVHQ",
        "outputId": "bf0c3c5f-8847-4e49-f40b-ca6fdaf655db"
      },
      "execution_count": null,
      "outputs": [
        {
          "output_type": "stream",
          "name": "stdout",
          "text": [
            "('jazz', True, 3)\n",
            "(('jazz', 3), ('ballroom', 2), ('contemporary', 5))\n"
          ]
        }
      ]
    },
    {
      "cell_type": "code",
      "source": [
        "items = ['apple', 'orange', 'banana']\n",
        "quantity = [5,3,2]"
      ],
      "metadata": {
        "id": "I316Yiu2jVK9"
      },
      "execution_count": null,
      "outputs": []
    },
    {
      "cell_type": "code",
      "source": [
        "orders = zip(items,quantity)\n",
        "print(tuple(orders))"
      ],
      "metadata": {
        "id": "abl7ksZ7k5HJ",
        "colab": {
          "base_uri": "https://localhost:8080/"
        },
        "outputId": "30d65a65-efb4-4acb-9c31-f9a39d28589e"
      },
      "execution_count": null,
      "outputs": [
        {
          "output_type": "stream",
          "name": "stdout",
          "text": [
            "(('apple', 5), ('orange', 3), ('banana', 2))\n"
          ]
        }
      ]
    },
    {
      "cell_type": "code",
      "source": [
        "orders = zip(items,quantity)\n",
        "print(list(orders))"
      ],
      "metadata": {
        "id": "Nc6ml50Kk4_x",
        "colab": {
          "base_uri": "https://localhost:8080/"
        },
        "outputId": "bf8a48d6-ff49-493f-cb58-8fbdd33f7ed2"
      },
      "execution_count": null,
      "outputs": [
        {
          "output_type": "stream",
          "name": "stdout",
          "text": [
            "[('apple', 5), ('orange', 3), ('banana', 2)]\n"
          ]
        }
      ]
    },
    {
      "cell_type": "code",
      "source": [
        "orders = zip(items,quantity)\n",
        "print(dict(orders))"
      ],
      "metadata": {
        "id": "lB5de-37k5Kq",
        "colab": {
          "base_uri": "https://localhost:8080/"
        },
        "outputId": "eef53d05-d69f-4cfc-df38-61f45fc5946e"
      },
      "execution_count": null,
      "outputs": [
        {
          "output_type": "stream",
          "name": "stdout",
          "text": [
            "{'apple': 5, 'orange': 3, 'banana': 2}\n"
          ]
        }
      ]
    },
    {
      "cell_type": "code",
      "source": [
        "s1 = set([1,2,3,4,5,6])\n",
        "print(s1)\n",
        "s2 = {1,2,2,3,4,4,5,6,6}\n",
        "print(s2)\n",
        "s3 = {3,4,5,6,6,6,1,1,2}\n",
        "print(s3)"
      ],
      "metadata": {
        "id": "8rWuoPw3k5OC",
        "colab": {
          "base_uri": "https://localhost:8080/"
        },
        "outputId": "42fe61e6-73f6-42d7-8067-b2ea23adb7d9"
      },
      "execution_count": null,
      "outputs": [
        {
          "output_type": "stream",
          "name": "stdout",
          "text": [
            "{1, 2, 3, 4, 5, 6}\n",
            "{1, 2, 3, 4, 5, 6}\n",
            "{1, 2, 3, 4, 5, 6}\n"
          ]
        }
      ]
    },
    {
      "cell_type": "code",
      "source": [
        "s4 = {'martha graham', 'alivin ailey', 'isadora duncan'}\n",
        "print(s4)"
      ],
      "metadata": {
        "id": "aB0isDyjk5Ug",
        "colab": {
          "base_uri": "https://localhost:8080/"
        },
        "outputId": "710dc166-229d-489b-edd1-a53650c2b436"
      },
      "execution_count": null,
      "outputs": [
        {
          "output_type": "stream",
          "name": "stdout",
          "text": [
            "{'alivin ailey', 'martha graham', 'isadora duncan'}\n"
          ]
        }
      ]
    },
    {
      "cell_type": "code",
      "source": [
        "s4.add('katherine dunham')\n",
        "print(s4)"
      ],
      "metadata": {
        "colab": {
          "base_uri": "https://localhost:8080/"
        },
        "id": "Dx42ZkoE66Qi",
        "outputId": "f1a4f2cd-0cbe-4d1b-a204-d434d225609d"
      },
      "execution_count": null,
      "outputs": [
        {
          "output_type": "stream",
          "name": "stdout",
          "text": [
            "{'katherine dunham', 'alivin ailey', 'martha graham', 'isadora duncan'}\n"
          ]
        }
      ]
    },
    {
      "cell_type": "code",
      "source": [
        "s5 = {1,2,3,4}\n",
        "s6 = {3,4,5,6}"
      ],
      "metadata": {
        "id": "zy7Ux7c766VY"
      },
      "execution_count": null,
      "outputs": []
    },
    {
      "cell_type": "code",
      "source": [
        "print(s5 | s6)\n",
        "print(s5.union(s6))"
      ],
      "metadata": {
        "colab": {
          "base_uri": "https://localhost:8080/"
        },
        "id": "VeylDhLt66a_",
        "outputId": "14e5642b-d9e3-42d8-da0c-f1ba7a9abb75"
      },
      "execution_count": null,
      "outputs": [
        {
          "output_type": "stream",
          "name": "stdout",
          "text": [
            "{1, 2, 3, 4, 5, 6}\n",
            "{1, 2, 3, 4, 5, 6}\n"
          ]
        }
      ]
    },
    {
      "cell_type": "code",
      "source": [
        "print(s5 & s6)\n",
        "print(s5.intersection(s6))"
      ],
      "metadata": {
        "colab": {
          "base_uri": "https://localhost:8080/"
        },
        "id": "cG4NFfjY66eU",
        "outputId": "814de9fe-6fdf-4219-aa4c-fcf198991591"
      },
      "execution_count": null,
      "outputs": [
        {
          "output_type": "stream",
          "name": "stdout",
          "text": [
            "{3, 4}\n",
            "{3, 4}\n"
          ]
        }
      ]
    },
    {
      "cell_type": "code",
      "source": [
        "print(s5 - s6)\n",
        "print(s5.difference(s6))"
      ],
      "metadata": {
        "colab": {
          "base_uri": "https://localhost:8080/"
        },
        "id": "LSB997AQ8QUv",
        "outputId": "2594c645-e120-49df-aced-0cfc8d8df6d9"
      },
      "execution_count": null,
      "outputs": [
        {
          "output_type": "stream",
          "name": "stdout",
          "text": [
            "{1, 2}\n",
            "{1, 2}\n"
          ]
        }
      ]
    },
    {
      "cell_type": "code",
      "source": [
        "print(s5 <= s6)\n",
        "print(s5.issubset(s6))\n",
        "s7 = {1,2,3}\n",
        "s8 = {1,2,3,4,5}\n",
        "print(s7 <= s8)\n",
        "print(s7.issubset(s8))"
      ],
      "metadata": {
        "colab": {
          "base_uri": "https://localhost:8080/"
        },
        "id": "4kLMaX3l8Qam",
        "outputId": "44b17a2a-353f-44b4-bff3-fe8b5c9f94a6"
      },
      "execution_count": null,
      "outputs": [
        {
          "output_type": "stream",
          "name": "stdout",
          "text": [
            "False\n",
            "False\n",
            "True\n",
            "True\n"
          ]
        }
      ]
    },
    {
      "cell_type": "code",
      "source": [
        "print(s7 < s8)\n",
        "s9 = {1,2,3}\n",
        "s10 = {1,2,3}\n",
        "print(s9 < s10)\n",
        "print(s9 < s9)"
      ],
      "metadata": {
        "colab": {
          "base_uri": "https://localhost:8080/"
        },
        "id": "6RslN85s8Qdw",
        "outputId": "de922c1a-3ae2-4ef9-bb58-4c3113da5175"
      },
      "execution_count": null,
      "outputs": [
        {
          "output_type": "stream",
          "name": "stdout",
          "text": [
            "True\n",
            "False\n",
            "False\n"
          ]
        }
      ]
    },
    {
      "cell_type": "code",
      "source": [],
      "metadata": {
        "id": "a3j-Fpd58QhO"
      },
      "execution_count": null,
      "outputs": []
    },
    {
      "cell_type": "code",
      "source": [],
      "metadata": {
        "id": "jevoHe8o8QkV"
      },
      "execution_count": null,
      "outputs": []
    },
    {
      "cell_type": "code",
      "source": [],
      "metadata": {
        "id": "ybbrcAa1k5Xn"
      },
      "execution_count": null,
      "outputs": []
    },
    {
      "cell_type": "code",
      "source": [],
      "metadata": {
        "id": "NGI2CwE5jVOx"
      },
      "execution_count": null,
      "outputs": []
    }
  ]
}